{
 "cells": [
  {
   "cell_type": "markdown",
   "id": "53c7a6a2",
   "metadata": {},
   "source": [
    "# Settings "
   ]
  },
  {
   "cell_type": "code",
   "execution_count": 160,
   "id": "60d5b1e9",
   "metadata": {},
   "outputs": [],
   "source": [
    "import pandas as pd\n",
    "import numpy as np"
   ]
  },
  {
   "cell_type": "markdown",
   "id": "da1994cd",
   "metadata": {},
   "source": [
    "# Import datasets\n",
    "\n",
    "Let's use a dict to store our dataframes"
   ]
  },
  {
   "cell_type": "code",
   "execution_count": 103,
   "id": "e3efd9a9",
   "metadata": {},
   "outputs": [],
   "source": [
    "def load_data_as_dic():\n",
    "    res = {\n",
    "        'train': pd.read_csv('./data/Training_Dataset.csv', sep=';', index_col=0, dtype={'zip_code': str}),\n",
    "        'test': pd.read_csv('./data/Test_Dataset.csv', sep=';', index_col=0, dtype={'zip_code': str}),\n",
    "    }\n",
    "    return res"
   ]
  },
  {
   "cell_type": "code",
   "execution_count": 104,
   "id": "1804e3e7",
   "metadata": {},
   "outputs": [],
   "source": [
    "data_dict = load_data_as_dic()"
   ]
  },
  {
   "cell_type": "markdown",
   "id": "21b5ab0a",
   "metadata": {},
   "source": [
    "# Working with the dataframe"
   ]
  },
  {
   "cell_type": "code",
   "execution_count": 186,
   "id": "9676b19f",
   "metadata": {},
   "outputs": [],
   "source": [
    "def cleanse_data(df):\n",
    "    # Deep copy of original dataframe\n",
    "    df = df.copy(deep=True)\n",
    "    \n",
    "    # Make categorical data types\n",
    "    for i in ['legal_form', 'type_pl', 'sector']:\n",
    "        df[i] = df[i].astype('category')\n",
    "    \n",
    "    # Handle leading zeros in zip code\n",
    "    idx = df['zip_code'].apply(lambda x: len(x)) == 4\n",
    "    df.loc[idx, 'zip_code'] = '0' + df.loc[idx, 'zip_code']\n",
    "    \n",
    "    # Drop C_043 in the training dataset (all variables NA)\n",
    "    df = df.drop(index='C_043', errors='ignore')\n",
    "    \n",
    "    # Replace NaN in PL items with 0\n",
    "    for i in ['earn_from_op', 'fin_result', 'oth_interest_inc', 'oth_interest_exp', \n",
    "              'result_from_ord_bus', 'total_result', 'annual_profit']:\n",
    "        df[i] = df[i].fillna(0.00)\n",
    "        \n",
    "    # Set gross perforamance equal to 1 if missing\n",
    "    df['gross_performance'] = df['gross_performance'].fillna(df['sales'])\n",
    "    df['gross_profit'] = df['gross_profit'].fillna((df['gross_profit'] / df['sales']).median() * df['sales'])    \n",
    "    \n",
    "    # Return cleansed dataframe\n",
    "    return df"
   ]
  },
  {
   "cell_type": "code",
   "execution_count": 189,
   "id": "171b55b7",
   "metadata": {},
   "outputs": [],
   "source": [
    "df_train = cleanse_data(data_dict.get('train'))"
   ]
  },
  {
   "cell_type": "code",
   "execution_count": 190,
   "id": "976eb2fd",
   "metadata": {},
   "outputs": [
    {
     "name": "stdout",
     "output_type": "stream",
     "text": [
      "<class 'pandas.core.frame.DataFrame'>\n",
      "Index: 668 entries, C_120 to C_647\n",
      "Data columns (total 39 columns):\n",
      " #   Column                   Non-Null Count  Dtype   \n",
      "---  ------                   --------------  -----   \n",
      " 0   default                  668 non-null    int64   \n",
      " 1   legal_form               668 non-null    category\n",
      " 2   zip_code                 668 non-null    object  \n",
      " 3   sector                   668 non-null    category\n",
      " 4   year_inc                 668 non-null    int64   \n",
      " 5   count_emp                312 non-null    float64 \n",
      " 6   type_pl                  668 non-null    category\n",
      " 7   sales                    668 non-null    float64 \n",
      " 8   gross_performance        668 non-null    float64 \n",
      " 9   gross_profit             668 non-null    float64 \n",
      " 10  earn_from_op             668 non-null    float64 \n",
      " 11  fin_result               668 non-null    float64 \n",
      " 12  oth_interest_inc         668 non-null    float64 \n",
      " 13  oth_interest_exp         668 non-null    float64 \n",
      " 14  result_from_ord_bus      668 non-null    float64 \n",
      " 15  total_result             668 non-null    float64 \n",
      " 16  annual_profit            668 non-null    float64 \n",
      " 17  total_assets             668 non-null    float64 \n",
      " 18  total_liabilities_st     668 non-null    float64 \n",
      " 19  total_liabilities_mt     668 non-null    float64 \n",
      " 20  total_liabilities_lt     668 non-null    float64 \n",
      " 21  bank_liabilities_st      326 non-null    float64 \n",
      " 22  bank_liabilities_mt      193 non-null    float64 \n",
      " 23  bank_liabilities_lt      138 non-null    float64 \n",
      " 24  trade_payables_st        534 non-null    float64 \n",
      " 25  trade_payables_mt        23 non-null     float64 \n",
      " 26  trade_payables_lt        3 non-null      float64 \n",
      " 27  bonds_payables_st        0 non-null      float64 \n",
      " 28  bonds_payables_mt        5 non-null      float64 \n",
      " 29  bonds_payables_lt        0 non-null      float64 \n",
      " 30  total_equity             649 non-null    float64 \n",
      " 31  current_assets           668 non-null    float64 \n",
      " 32  monetary_current_assets  668 non-null    float64 \n",
      " 33  cash                     636 non-null    float64 \n",
      " 34  trade_receivables_st     338 non-null    float64 \n",
      " 35  trade_receivables_lt     22 non-null     float64 \n",
      " 36  cf_operating             666 non-null    float64 \n",
      " 37  cf_investment            666 non-null    float64 \n",
      " 38  cf_financing             666 non-null    float64 \n",
      "dtypes: category(3), float64(33), int64(2), object(1)\n",
      "memory usage: 206.7+ KB\n"
     ]
    }
   ],
   "source": [
    "df_train.info()"
   ]
  }
 ],
 "metadata": {
  "kernelspec": {
   "display_name": "Python 3 (ipykernel)",
   "language": "python",
   "name": "python3"
  },
  "language_info": {
   "codemirror_mode": {
    "name": "ipython",
    "version": 3
   },
   "file_extension": ".py",
   "mimetype": "text/x-python",
   "name": "python",
   "nbconvert_exporter": "python",
   "pygments_lexer": "ipython3",
   "version": "3.11.5"
  }
 },
 "nbformat": 4,
 "nbformat_minor": 5
}
